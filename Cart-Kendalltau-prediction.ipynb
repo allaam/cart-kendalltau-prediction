{
 "cells": [
  {
   "cell_type": "code",
   "execution_count": null,
   "metadata": {},
   "outputs": [],
   "source": [
    "#Dirancang dalam melengkapai tugas akhir \n",
    "#Membuat program model prediksi bisnis dibidang kuliner\n",
    "#Dengan keputusan pada variabel yang ada sehingga menentukan nilai dari suatu prediksi dengan algortima CART\n",
    "#Menentukan nilai dari korelas pada variabel bebas dan terikat dengan algoritma kendalls tau\n",
    "#Meningkatkan nilai akurasi pada algortma \n",
    "\n",
    "#Deklarasi libraray\n",
    "import pandas as pd \n",
    "import matplotlib.pyplot as plt\n",
    "import numpy as np\n",
    "from sklearn.tree import DecisionTreeClassifier\n",
    "from sklearn.preprocessing import LabelEncoder\n",
    "from sklearn.model_selection import train_test_split\n",
    "from sklearn import tree\n",
    "from sklearn.metrics import confusion_matrix\n",
    "from sklearn.metrics import classification_report"
   ]
  },
  {
   "cell_type": "code",
   "execution_count": null,
   "metadata": {},
   "outputs": [],
   "source": [
    "#Deklarasi algoritma \n",
    "#df = pd.read_excel(\"C:/Users/adity/Documents/Kuliah/Semester 5/Big Data/TA - UAS/Kuisoner.xlsx\")\n",
    "#df.head()"
   ]
  },
  {
   "cell_type": "code",
   "execution_count": null,
   "metadata": {},
   "outputs": [],
   "source": [
    "#Mengganti nama kolom, mempersingkat nama kolom yang terdapat pada gform.\n",
    "#Menghapus kolom\n",
    "#df = df.drop(['Timestamp'], axis=1)\n",
    "\n",
    "columns = ['waktu','Nama', 'Usia','Kuliner yang digemari', 'Kuliner sering dikonsumsi', 'iklan kuliner', 'rating iklan', 'pembelian kuliner', 'peningkatan penjualan multiplatform', 'faktor yang merugikan', 'faktor yang menguntungkan', 'prediksi', 'persentase']\n",
    "df = pd.read_csv('C:/Users/adity/Documents/Kuliah/Semester 5/Big Data/TA - UAS/Kuisoner2.csv',header=None,   names = columns)\n",
    "df = df.drop(index=0)\n",
    "df = df.drop(['waktu'], axis = 1)\n",
    "df.head()"
   ]
  },
  {
   "cell_type": "code",
   "execution_count": null,
   "metadata": {},
   "outputs": [],
   "source": [
    "#Mengecek nilai dari dtype pada dataframe\n",
    "df = df.drop(['persentase'], axis = 1)\n",
    "df.dtypes"
   ]
  },
  {
   "cell_type": "code",
   "execution_count": null,
   "metadata": {},
   "outputs": [],
   "source": [
    "#Mengecek nilai dari missing value. \n",
    "mv = df.isna()\n",
    "mv.sum()"
   ]
  },
  {
   "cell_type": "code",
   "execution_count": null,
   "metadata": {},
   "outputs": [],
   "source": [
    "#Melakukan aggregasi data perkelompok pada setiap kolom. \n",
    "#----------------------------------------------------\n",
    "\n",
    "#Melakukan pengelompokan data.\n",
    "#Menjumlahkan dengan usia\n",
    "ag1 = df.groupby(\"Usia\").count()\n",
    "ag1.drop(columns=['Kuliner yang digemari', 'Kuliner sering dikonsumsi', 'iklan kuliner', 'rating iklan', 'pembelian kuliner', 'peningkatan penjualan multiplatform', 'faktor yang merugikan', 'faktor yang menguntungkan'], inplace=True)\n",
    "#g1.reset_index(drop=True, inplace=True)\n",
    "ag1 = ag1.rename(columns = {'Nama' : 'Total'})\n",
    "ag1 = pd.DataFrame(ag1)\n",
    "#mengkoversi nilai index menjadi kolom\n",
    "ag1.reset_index(level=0, inplace=True)\n",
    "\n",
    "#Menjumlahkan dengan kuliner yang digmeari\n",
    "ag2 = df.groupby(\"Kuliner yang digemari\").count()\n",
    "ag2.drop(columns=['Usia', 'Kuliner sering dikonsumsi', 'iklan kuliner', 'rating iklan', 'pembelian kuliner', 'peningkatan penjualan multiplatform', 'faktor yang merugikan', 'faktor yang menguntungkan'], inplace=True)\n",
    "#g1.reset_index(drop=True, inplace=True)\n",
    "ag2 = ag2.rename(columns = {'Nama' : 'Total'})\n",
    "ag2 = pd.DataFrame(ag2)\n",
    "#mengkoversi nilai index menjadi kolom\n",
    "ag2.reset_index(level=0, inplace=True)\n",
    "\n",
    "#Menjumlahkan dengan kuliner sering dikonsumsi\n",
    "ag3 = df.groupby(\"Kuliner sering dikonsumsi\").count()\n",
    "ag3.drop(columns=['Usia', 'Kuliner yang digemari', 'iklan kuliner', 'rating iklan', 'pembelian kuliner', 'peningkatan penjualan multiplatform', 'faktor yang merugikan', 'faktor yang menguntungkan'], inplace=True)\n",
    "#g1.reset_index(drop=True, inplace=True)\n",
    "ag3 = ag3.rename(columns = {'Nama' : 'Total'})\n",
    "ag3 = pd.DataFrame(ag3)\n",
    "#mengkoversi nilai index menjadi kolom\n",
    "ag3.reset_index(level=0, inplace=True)\n",
    "\n",
    "#Menjumlahkan dengan iklan kuliner\n",
    "ag4 = df.groupby(\"iklan kuliner\").count()\n",
    "ag4.drop(columns=['Usia', 'Kuliner yang digemari', 'Kuliner sering dikonsumsi', 'rating iklan', 'pembelian kuliner', 'peningkatan penjualan multiplatform', 'faktor yang merugikan', 'faktor yang menguntungkan'], inplace=True)\n",
    "#g1.reset_index(drop=True, inplace=True)\n",
    "ag4 = ag4.rename(columns = {'Nama' : 'Total'})\n",
    "ag4 = pd.DataFrame(ag4)\n",
    "#mengkoversi nilai index menjadi kolom\n",
    "ag4.reset_index(level=0, inplace=True)\n",
    "\n",
    "#Menjumlahkan dengan rating iklan\n",
    "ag5 = df.groupby(\"rating iklan\").count()\n",
    "ag5.drop(columns=['Usia', 'Kuliner yang digemari', 'Kuliner sering dikonsumsi', 'iklan kuliner', 'pembelian kuliner', 'peningkatan penjualan multiplatform', 'faktor yang merugikan', 'faktor yang menguntungkan'], inplace=True)\n",
    "#g1.reset_index(drop=True, inplace=True)\n",
    "ag5 = ag5.rename(columns = {'Nama' : 'Total'})\n",
    "ag5 = pd.DataFrame(ag5)\n",
    "#mengkoversi nilai index menjadi kolom\n",
    "ag5.reset_index(level=0, inplace=True)\n",
    "\n",
    "#Menjumlahkan dengan pembelian kuliner\n",
    "ag6 = df.groupby(\"pembelian kuliner\").count()\n",
    "ag6.drop(columns=['Usia', 'Kuliner yang digemari', 'Kuliner sering dikonsumsi', 'iklan kuliner', 'rating iklan', 'peningkatan penjualan multiplatform', 'faktor yang merugikan', 'faktor yang menguntungkan'], inplace=True)\n",
    "#g1.reset_index(drop=True, inplace=True)\n",
    "ag6 = ag6.rename(columns = {'Nama' : 'Total'})\n",
    "ag6 = pd.DataFrame(ag6)\n",
    "#mengkoversi nilai index menjadi kolom\n",
    "ag6.reset_index(level=0, inplace=True)\n",
    "\n",
    "#Menjumlahkan dengan peningkatan penjualan multiplatform\n",
    "ag7 = df.groupby(\"peningkatan penjualan multiplatform\").count()\n",
    "ag7.drop(columns=['Usia', 'Kuliner yang digemari', 'Kuliner sering dikonsumsi', 'iklan kuliner', 'rating iklan', 'pembelian kuliner', 'faktor yang merugikan', 'faktor yang menguntungkan'], inplace=True)\n",
    "#g1.reset_index(drop=True, inplace=True)\n",
    "ag7 = ag7.rename(columns = {'Nama' : 'Total'})\n",
    "ag7 = pd.DataFrame(ag7)\n",
    "#mengkoversi nilai index menjadi kolom\n",
    "ag7.reset_index(level=0, inplace=True)\n",
    "\n",
    "#Menjumlahkan dengan peningkatan penjualan faktor yang merugikan\n",
    "ag8 = df.groupby(\"faktor yang merugikan\").count()\n",
    "ag8.drop(columns=['Usia', 'Kuliner yang digemari', 'Kuliner sering dikonsumsi', 'iklan kuliner', 'rating iklan', 'pembelian kuliner', 'peningkatan penjualan multiplatform', 'faktor yang menguntungkan'], inplace=True)\n",
    "#g1.reset_index(drop=True, inplace=True)\n",
    "ag8 = ag8.rename(columns = {'Nama' : 'Total'})\n",
    "ag8 = pd.DataFrame(ag8)\n",
    "#mengkoversi nilai index menjadi kolom\n",
    "ag8.reset_index(level=0, inplace=True)\n",
    "\n",
    "#Menjumlahkan dengan peningkatan penjualan faktor yang menguntungkan\n",
    "ag9 = df.groupby(\"faktor yang menguntungkan\").count()\n",
    "ag9.drop(columns=['Usia', 'Kuliner yang digemari', 'Kuliner sering dikonsumsi', 'iklan kuliner', 'rating iklan', 'pembelian kuliner', 'peningkatan penjualan multiplatform', 'faktor yang merugikan'], inplace=True)\n",
    "#g1.reset_index(drop=True, inplace=True)\n",
    "ag9 = ag9.rename(columns = {'Nama' : 'Total'})\n",
    "ag9 = pd.DataFrame(ag9)\n",
    "#mengkoversi nilai index menjadi kolom\n",
    "ag9.reset_index(level=0, inplace=True)"
   ]
  },
  {
   "cell_type": "code",
   "execution_count": null,
   "metadata": {},
   "outputs": [],
   "source": [
    "#Visualisasi data - multiple visualisasi data.\n",
    "#----------------------------------------------------------\n",
    "#https://towardsdatascience.com/different-bar-charts-in-python-6d984b9c6b17\n",
    "#Membuat fungsi OOP pada visualisasi, dan tampilkan menjadi satu frame. \n",
    "def vz_bar_chart(x, height):\n",
    "    barplot = plt.bar(x, height, color=['#f79256', '#fbd1a2', '#7dcfb6', '#00b2ca', '#1d4e89'])\n",
    "    for bar in barplot:\n",
    "        yval = bar.get_height()\n",
    "        plt.text(bar.get_x() + bar.get_width()/2.0, yval, int(yval), va='bottom', fontweight='bold')\n",
    "    plt.grid(b = True, color ='grey',linestyle ='-.', linewidth = 0.5,alpha = 0.2)\n",
    "    plt.xticks(rotation = 25)\n",
    "\n",
    "plt.figure(figsize = (35,40))\n",
    "\n",
    "#Visualisasi data 1 - Agreggasi usia\n",
    "plt.subplot(3,3,1)\n",
    "vz_bar_chart(ag1['Usia'], ag1['Total'])\n",
    "plt.title(\"Data Usia\", fontsize= 15, fontweight='bold')\n",
    "plt.xlabel(\"Usia\")\n",
    "plt.ylabel(\"Total\")\n",
    "\n",
    "#Visualisasi data 2- Aggregasi kuliner yang digemari\n",
    "plt.subplot(3,3,2)\n",
    "vz_bar_chart(ag2['Kuliner yang digemari'], ag2['Total'])\n",
    "plt.title(\"Kuliner yang digemari\", fontsize= 15, fontweight='bold')\n",
    "plt.xlabel(\"Kuliner yang digemari\")\n",
    "plt.ylabel(\"Total\")\n",
    "\n",
    "#Visualisasi data 3 - Aggregasi kuliner sering dikonsumsi\n",
    "plt.subplot(3,3,3)\n",
    "vz_bar_chart(ag3['Kuliner sering dikonsumsi'], ag3['Total'])\n",
    "plt.title(\"Kuliner sering dikonsumsi\", fontsize= 15, fontweight='bold')\n",
    "plt.xlabel(\"Kuliner sering dikonsumsi\")\n",
    "plt.ylabel(\"Total\")\n",
    "\n",
    "#Visualisasi data 4 - Aggregasi data iklan kuliner\n",
    "plt.subplot(3,3,4)\n",
    "vz_bar_chart(ag4['iklan kuliner'], ag4['Total'])\n",
    "plt.title(\"iklan kuliner\", fontsize= 15, fontweight='bold')\n",
    "plt.xlabel(\"iklan kuliner\")\n",
    "plt.ylabel(\"Total\")\n",
    "\n",
    "#Visualisasi data 5 - Aggregasi data iklan kuliner\n",
    "plt.subplot(3,3,5)\n",
    "vz_bar_chart(ag5['rating iklan'], ag5['Total'])\n",
    "plt.title(\"rating iklan\", fontsize= 15, fontweight='bold')\n",
    "plt.xlabel(\"raitng iklan\")\n",
    "plt.ylabel(\"Total\")\n",
    "\n",
    "#Visualisasi data 6 - Aggregasi data iklan kuliner\n",
    "plt.subplot(3,3,6)\n",
    "vz_bar_chart(ag6['pembelian kuliner'], ag6['Total'])\n",
    "plt.title(\"pembelian kuliner\", fontsize= 15, fontweight='bold')\n",
    "plt.xlabel(\"pembelian kuliner\")\n",
    "plt.ylabel(\"Total\")\n",
    "\n",
    "#Visualisasi data 7 - Aggregasi data iklan kuliner\n",
    "plt.subplot(3,3,7)\n",
    "vz_bar_chart(ag7['peningkatan penjualan multiplatform'], ag7['Total'])\n",
    "plt.title(\"peningkatan penjualan multiplatform\", fontsize= 15, fontweight='bold')\n",
    "plt.xlabel(\"peningkatan penjualan multiplatform\")\n",
    "plt.ylabel(\"Total\")\n",
    "\n",
    "#Visualisasi data 8 - Aggregasi data faktor yang merugikan\n",
    "plt.subplot(3,3,8)\n",
    "vz_bar_chart(ag8['faktor yang merugikan'], ag8['Total'])\n",
    "plt.title(\"faktor yang merugikan\", fontsize= 15, fontweight='bold')\n",
    "plt.xlabel(\"faktor yang merugikan\")\n",
    "plt.ylabel(\"Total\")\n",
    "\n",
    "#Visualisasi data 9 - Aggregasi data faktor yang menguntungkan\n",
    "plt.subplot(3,3,9)\n",
    "vz_bar_chart(ag9['faktor yang menguntungkan'], ag9['Total'])\n",
    "plt.title(\"faktor yang menguntungkan\", fontsize= 15, fontweight='bold')\n",
    "plt.xlabel(\"faktor yang menguntungkan\")\n",
    "plt.ylabel(\"Total\")"
   ]
  },
  {
   "cell_type": "code",
   "execution_count": null,
   "metadata": {},
   "outputs": [],
   "source": [
    "#----Melakukan algoritma CART\n",
    "#Memberikan label pada setiap kolom yang akan terproses menjadi decission tree\n",
    "\n",
    "df = pd.DataFrame(data = df.iloc[:,2:11].values, columns = ['Kuliner yang digemari', 'Kuliner sering dikonsumsi', 'iklan kuliner', 'rating iklan', 'pembelian kuliner','peningkatan penjualan multiplatform', \n",
    "                                                            'faktor yang merugikan', 'faktor yang menguntungkan', 'prediksi'])\n",
    "le = LabelEncoder()\n",
    "df_encoded = df.iloc[:,0:9]\n",
    "\n",
    "for i in df_encoded:\n",
    "    df_encoded[i] = le.fit_transform(df_encoded[i])\n",
    "\n",
    "df_encoded.head()"
   ]
  },
  {
   "cell_type": "code",
   "execution_count": null,
   "metadata": {},
   "outputs": [],
   "source": [
    "#menampilkan informasi yang telah diberi label\n",
    "df_encoded.info()"
   ]
  },
  {
   "cell_type": "code",
   "execution_count": null,
   "metadata": {},
   "outputs": [],
   "source": [
    "#Fitur data yang terdapat pada dataset.\n",
    "X = df_encoded.iloc[:,0:8]\n",
    "#Label data yang terdapata pada dataset\n",
    "y = df_encoded.iloc[:,8]\n",
    "\n",
    "#Melakukan spilt validasi pada dataset\n",
    "X_train, X_test, y_train, y_test = train_test_split(X,y, test_size = 0.2, random_state = 1)\n",
    "clf = DecisionTreeClassifier(criterion='gini')\n",
    "model = clf.fit(X_train, y_train)"
   ]
  },
  {
   "cell_type": "code",
   "execution_count": null,
   "metadata": {},
   "outputs": [],
   "source": [
    "#Gambaran decission tree dalam bentuk teks\n",
    "text_representation = tree.export_text(clf)\n",
    "print(text_representation)"
   ]
  },
  {
   "cell_type": "code",
   "execution_count": null,
   "metadata": {},
   "outputs": [],
   "source": [
    "#membuat variabel prediksi untuk algorita cart\n",
    "y_predict = clf.predict(X_test)\n",
    "y_predict"
   ]
  },
  {
   "cell_type": "code",
   "execution_count": null,
   "metadata": {},
   "outputs": [],
   "source": [
    "#Membandingkan nilai 10 data pertama \n",
    "df_dataTest = df_encoded['prediksi']\n",
    "df_arrayTest = np.array(df_dataTest[0:10])\n",
    "\n",
    "print(y_predict, '--', df_arrayTest)"
   ]
  },
  {
   "cell_type": "code",
   "execution_count": null,
   "metadata": {},
   "outputs": [],
   "source": [
    "#Menggambarkan visualisasi decission tree dengan algoritma cart\n",
    "\n",
    "fig = plt.figure(figsize =(25,15))\n",
    "vz_cart = tree.plot_tree(clf, class_names=['0', '1'], filled = True)"
   ]
  },
  {
   "cell_type": "code",
   "execution_count": null,
   "metadata": {},
   "outputs": [],
   "source": [
    "#Menghitung nilai akurasi pada algoritma cart\n",
    "from sklearn import metrics\n",
    "\n",
    "print(\"Accuracy:\",metrics.accuracy_score(y_test, y_predict))"
   ]
  },
  {
   "cell_type": "code",
   "execution_count": null,
   "metadata": {},
   "outputs": [],
   "source": [
    "print(classification_report(y_test, y_predict))"
   ]
  },
  {
   "cell_type": "code",
   "execution_count": null,
   "metadata": {},
   "outputs": [],
   "source": [
    "print(confusion_matrix(y_test, y_predict))"
   ]
  },
  {
   "cell_type": "code",
   "execution_count": null,
   "metadata": {},
   "outputs": [],
   "source": [
    "#membuat variabel prediksi untuk algoritma cart nilai X\n",
    "y_predict_test = clf.predict(X_test)\n",
    "y_predict_test = pd.DataFrame({'prediksi_cart' : y_predict_test})\n",
    "y_predict_test.head()"
   ]
  },
  {
   "cell_type": "code",
   "execution_count": null,
   "metadata": {},
   "outputs": [],
   "source": [
    "y_predict_train = clf.predict(X_train)\n",
    "y_predict_train = pd.DataFrame({'prediksi_cart' : y_predict_train})\n",
    "y_predict_train.head()"
   ]
  },
  {
   "cell_type": "code",
   "execution_count": null,
   "metadata": {},
   "outputs": [],
   "source": [
    "#Menggabungkan keseluruhan nilai prediksi.\n",
    "df_predict = pd.concat([y_predict_test, y_predict_train])\n",
    "df_predict.reset_index(inplace=True, drop=True)\n",
    "df_predict.head()"
   ]
  },
  {
   "cell_type": "code",
   "execution_count": null,
   "metadata": {},
   "outputs": [],
   "source": [
    "actual_data = df['prediksi']\n",
    "actual_data = pd.DataFrame(actual_data)\n",
    "actual_data.head()"
   ]
  },
  {
   "cell_type": "code",
   "execution_count": null,
   "metadata": {},
   "outputs": [],
   "source": [
    "#Menggabungkan nilai kedua dari dataframe actual data dan prediksi data.\n",
    "df_data = pd.concat([df, df_predict], axis=1) \n",
    "df_data = df_data[df_data.prediksi == 'Ya']\n",
    "df_data"
   ]
  },
  {
   "cell_type": "code",
   "execution_count": null,
   "metadata": {},
   "outputs": [],
   "source": [
    "#Mengubah nilai untuk memproses kendall's tau \n",
    "#nilai yang ada, diubah berdasarkan persentase pada setiap kategori \n",
    "#persentase didapatkan pada hitungan manual.\n",
    "\n",
    "df_kendall = pd.DataFrame(df)\n",
    "\n",
    "df_kendall.loc[df_kendall['Kuliner yang digemari'] == 'Kuliner khas daerah', 'Kuliner yang digemari'] = 18\n",
    "df_kendall.loc[df_kendall['Kuliner yang digemari'] == 'Kuliner manca negara', 'Kuliner yang digemari'] = 28\n",
    "df_kendall.loc[df_kendall['Kuliner yang digemari'] == 'Kuliner cepat saji', 'Kuliner yang digemari'] = 46\n",
    "df_kendall.loc[df_kendall['Kuliner yang digemari'] == 'Kuliner rumahan', 'Kuliner yang digemari'] = 4\n",
    "df_kendall.loc[df_kendall['Kuliner yang digemari'] == 'Lainnya', 'Kuliner yang digemari'] = 4\n",
    "\n",
    "df_kendall.loc[df_kendall['Kuliner sering dikonsumsi'] == 'Kuliner khas daerah', 'Kuliner sering dikonsumsi'] = 10\n",
    "df_kendall.loc[df_kendall['Kuliner sering dikonsumsi'] == 'Kuliner manca negara', 'Kuliner sering dikonsumsi'] = 8\n",
    "df_kendall.loc[df_kendall['Kuliner sering dikonsumsi'] == 'Kuliner cepat saji', 'Kuliner sering dikonsumsi'] = 36\n",
    "df_kendall.loc[df_kendall['Kuliner sering dikonsumsi'] == 'Kuliner rumahan', 'Kuliner sering dikonsumsi'] = 42\n",
    "df_kendall.loc[df_kendall['Kuliner sering dikonsumsi'] == 'Lainnya', 'Kuliner sering dikonsumsi'] = 4\n",
    "\n",
    "df_kendall.loc[df_kendall['iklan kuliner'] == 'Instagram', 'iklan kuliner'] = 56\n",
    "df_kendall.loc[df_kendall['iklan kuliner'] == 'Facebook', 'iklan kuliner'] = 8\n",
    "df_kendall.loc[df_kendall['iklan kuliner'] == 'Spanduk', 'iklan kuliner'] = 8\n",
    "df_kendall.loc[df_kendall['iklan kuliner'] == 'Brosur', 'iklan kuliner'] = 6\n",
    "df_kendall.loc[df_kendall['iklan kuliner'] == 'Lainnya', 'iklan kuliner'] = 22\n",
    "\n",
    "df_kendall.loc[df_kendall['rating iklan'] == '1', 'rating iklan'] = 6\n",
    "df_kendall.loc[df_kendall['rating iklan'] == '2', 'rating iklan'] = 8\n",
    "df_kendall.loc[df_kendall['rating iklan'] == '3', 'rating iklan'] = 8\n",
    "df_kendall.loc[df_kendall['rating iklan'] == '4', 'rating iklan'] = 16\n",
    "df_kendall.loc[df_kendall['rating iklan'] == '5', 'rating iklan'] = 60\n",
    "\n",
    "df_kendall.loc[df_kendall['pembelian kuliner'] == 'e-Commerce', 'pembelian kuliner'] = 28\n",
    "df_kendall.loc[df_kendall['pembelian kuliner'] == 'Medial Sosial (Intagram, Fb dll)', 'pembelian kuliner'] = 20\n",
    "df_kendall.loc[df_kendall['pembelian kuliner'] == 'Langsung ditempat', 'pembelian kuliner'] = 52\n",
    "\n",
    "df_kendall.loc[df_kendall['peningkatan penjualan multiplatform'] == 'Ya', 'peningkatan penjualan multiplatform'] = 74\n",
    "df_kendall.loc[df_kendall['peningkatan penjualan multiplatform'] == 'Tidak', 'peningkatan penjualan multiplatform'] = 10\n",
    "df_kendall.loc[df_kendall['peningkatan penjualan multiplatform'] == 'Mungkin', 'peningkatan penjualan multiplatform'] = 16\n",
    "\n",
    "df_kendall.loc[df_kendall['faktor yang merugikan'] == 'Tampilan / warna yang kurang menarik pada produk', 'faktor yang merugikan'] = 16\n",
    "df_kendall.loc[df_kendall['faktor yang merugikan'] == 'Kualitas kuliner yang tidak konsisten', 'faktor yang merugikan'] = 42\n",
    "df_kendall.loc[df_kendall['faktor yang merugikan'] == 'Kualitas peralatan yang tidak higenis', 'faktor yang merugikan'] = 30\n",
    "df_kendall.loc[df_kendall['faktor yang merugikan'] == 'Kurang dana', 'faktor yang merugikan'] = 12\n",
    "\n",
    "df_kendall.loc[df_kendall['faktor yang menguntungkan'] == 'Originalitas / Keunikan kuliner', 'faktor yang menguntungkan'] = 22\n",
    "df_kendall.loc[df_kendall['faktor yang menguntungkan'] == 'Cita rasa kuliner', 'faktor yang menguntungkan'] = 50\n",
    "df_kendall.loc[df_kendall['faktor yang menguntungkan'] == 'Promosi menarik', 'faktor yang menguntungkan'] = 16\n",
    "df_kendall.loc[df_kendall['faktor yang menguntungkan'] == 'Tempat makan yang nyaman', 'faktor yang menguntungkan'] = 12\n",
    "\n",
    "df_kendall.loc[df_kendall['prediksi'] == 'Ya', 'prediksi'] = 1\n",
    "df_kendall.loc[df_kendall['prediksi'] == 'Tidak', 'prediksi'] = 0\n",
    "\n",
    "df_kendall.head()"
   ]
  },
  {
   "cell_type": "code",
   "execution_count": null,
   "metadata": {},
   "outputs": [],
   "source": [
    "df_kendall['Kuliner yang digemari'] = df_kendall['Kuliner yang digemari'].astype(int)\n",
    "df_kendall['Kuliner sering dikonsumsi'] = df_kendall['Kuliner sering dikonsumsi'].astype(int)\n",
    "df_kendall['iklan kuliner'] = df_kendall['iklan kuliner'].astype(int)\n",
    "df_kendall['rating iklan'] = df_kendall['rating iklan'].astype(int)\n",
    "df_kendall['pembelian kuliner'] = df_kendall['pembelian kuliner'].astype(int)\n",
    "df_kendall['peningkatan penjualan multiplatform'] = df_kendall['peningkatan penjualan multiplatform'].astype(int)\n",
    "df_kendall['faktor yang menguntungkan'] = df_kendall['faktor yang menguntungkan'].astype(int)\n",
    "df_kendall['faktor yang merugikan'] = df_kendall['faktor yang merugikan'].astype(int)\n",
    "df_kendall['prediksi'] = df_kendall['prediksi'].astype(int)\n",
    "\n",
    "df_kendall.dtypes"
   ]
  },
  {
   "cell_type": "code",
   "execution_count": null,
   "metadata": {},
   "outputs": [],
   "source": [
    "data = [df_kendall['Kuliner yang digemari'], df_kendall['Kuliner sering dikonsumsi'], df_kendall['iklan kuliner'], df_kendall['rating iklan'], df_kendall['pembelian kuliner'], df_kendall['peningkatan penjualan multiplatform'], df_kendall['faktor yang menguntungkan'], df_kendall['faktor yang merugikan']]\n",
    "\n",
    "fig = plt.figure(figsize =(10, 7))\n",
    " \n",
    "# Creating axes instance\n",
    "ax = fig.add_axes([0, 0, 1, 1])\n",
    " \n",
    "# Creating plot\n",
    "bp = ax.boxplot(data, patch_artist= True)\n",
    " \n",
    "colors = ['#f79256', '#fbd1a2', '#7dcfb6', '#00b2ca','#033f63','#28666e', '#7c9885', '#b5b682' ]\n",
    " \n",
    "for patch, color in zip(bp['boxes'], colors):\n",
    "    patch.set_facecolor(color)\n",
    "\n",
    "# whiskers\n",
    "for whisker in bp['whiskers']:\n",
    "    whisker.set(color ='#000000',\n",
    "                linewidth = 1.5,\n",
    "                linestyle =\":\")\n",
    "# caps\n",
    "for cap in bp['caps']:\n",
    "    cap.set(color ='#000000',\n",
    "            linewidth = 2)\n",
    " \n",
    "# medians\n",
    "for median in bp['medians']:\n",
    "    median.set(color ='#EE4747',\n",
    "               linewidth = 3)\n",
    " \n",
    "# changing style of fliers\n",
    "for flier in bp['fliers']:\n",
    "    flier.set(marker ='D',\n",
    "              color ='#000000',\n",
    "              alpha = 0.5)\n",
    "      \n",
    "# x-axis labels\n",
    "ax.set_xticklabels(['Kuliner yang digemari', 'Kuliner sering dikonsumsi', 'iklan kuliner', 'rating iklan',\n",
    "                    'pembelian kuliner', 'peningkatan penjualan multiplatform', 'faktor yang menguntungkan', 'faktor yang merugikan'], rotation = 45)\n",
    " \n",
    "# Adding title\n",
    "plt.title(\"Visualisasi Box Plot\")\n",
    "     \n",
    "# show plot\n",
    "plt.show(bp)\n",
    " \n",
    "# show plot\n",
    "plt.show()"
   ]
  },
  {
   "cell_type": "code",
   "execution_count": null,
   "metadata": {},
   "outputs": [],
   "source": [
    "#Melihat korelas antara dua variabel dengan kendalls\n",
    "from scipy.stats import kendalltau\n",
    "\n",
    "#Kuliner yang digemari dengan prediksi\n",
    "corr, _ = kendalltau(df_kendall['Kuliner yang digemari'], df_kendall['prediksi'])\n",
    "print('Korelasi kendalls tau variabel Kuliner yang digemari dengan prediksi : %.5f' % corr)\n",
    "\n",
    "#Kuliner sering dikonsumsi dengan prediksi\n",
    "corr, _ = kendalltau(df_kendall['Kuliner sering dikonsumsi'], df_kendall['prediksi'])\n",
    "print('Korelasi kendalls tau variabel Kuliner sering dikonsumsi dengan prediksi : %.5f' % corr)\n",
    "\n",
    "#Iklan kuliner dengan prediksi\n",
    "corr, _ = kendalltau(df_kendall['iklan kuliner'], df_kendall['prediksi'])\n",
    "print('Korelasi kendalls tau variabel iklan Kuliner dengan prediksi : %.5f' % corr)\n",
    "\n",
    "#Rating Iklan dengan prediksi\n",
    "corr, _ = kendalltau(df_kendall['rating iklan'], df_kendall['prediksi'])\n",
    "print('Korelasi kendalls tau variabel rating iklan dengan prediksi : %.5f' % corr)\n",
    "\n",
    "#Pembelian kuliner dengan prediksi\n",
    "corr, _ = kendalltau(df_kendall['pembelian kuliner'], df_kendall['prediksi'])\n",
    "print('Korelasi kendalls tau variabel pembelian kuliner dengan prediksi : %.5f' % corr)\n",
    "\n",
    "#Peningkatan penjualan multiplatform dengan prediksi\n",
    "corr, _ = kendalltau(df_kendall['peningkatan penjualan multiplatform'], df_kendall['prediksi'])\n",
    "print('Korelasi kendalls tau variabel Peningkatan penjualan multiplatform dengan prediksi : %.5f' % corr)\n",
    "\n",
    "#Faktor yang merugikan dengan prediksi\n",
    "corr, _ = kendalltau(df_kendall['faktor yang merugikan'], df_kendall['prediksi'])\n",
    "print('Korelasi kendalls tau variabel Faktor yang merugikan dengan prediksi : %.5f' % corr)\n",
    "\n",
    "#Faktor yang menguntungkan dengan prediksi\n",
    "corr, _ = kendalltau(df_kendall['faktor yang menguntungkan'], df_kendall['prediksi'])\n",
    "print('Korelasi kendalls tau variabel Faktor yang menguntungkan dengan prediksi : %.5f' % corr)"
   ]
  },
  {
   "cell_type": "code",
   "execution_count": null,
   "metadata": {},
   "outputs": [],
   "source": [
    "#Melakukan validasi kembali dengan cart dengan menerapkan algoritma kendall's tau \n",
    "#kolom yang ada berdasarkan nilai dari akurasi tertinggi \n",
    "\n",
    "df = pd.DataFrame(data = df_kendall[['iklan kuliner', 'rating iklan', 'pembelian kuliner', 'prediksi']])\n",
    "le = LabelEncoder()\n",
    "df_encoded = df.iloc[:,0:4]\n",
    "\n",
    "for i in df_encoded:\n",
    "    df_encoded[i] = le.fit_transform(df_encoded[i])\n",
    "\n",
    "df_encoded.head()"
   ]
  },
  {
   "cell_type": "code",
   "execution_count": null,
   "metadata": {},
   "outputs": [],
   "source": [
    "df_encoded.info()"
   ]
  },
  {
   "cell_type": "code",
   "execution_count": null,
   "metadata": {},
   "outputs": [],
   "source": [
    "#Fitur data yang terdapat pada dataset.\n",
    "X = df_encoded.iloc[:,0:3]\n",
    "#Label data yang terdapata pada dataset\n",
    "y = df_encoded.iloc[:,3]\n",
    "\n",
    "#Melakukan spilt validasi pada dataset\n",
    "X_train, X_test, y_train, y_test = train_test_split(X,y, test_size = 0.2, random_state = 1)\n",
    "clf = DecisionTreeClassifier(criterion='gini')\n",
    "model = clf.fit(X_train, y_train)"
   ]
  },
  {
   "cell_type": "code",
   "execution_count": null,
   "metadata": {},
   "outputs": [],
   "source": [
    "#Memberikan gambaran terkait teks pada decission tree\n",
    "text_representation = tree.export_text(clf)\n",
    "print(text_representation)"
   ]
  },
  {
   "cell_type": "code",
   "execution_count": null,
   "metadata": {},
   "outputs": [],
   "source": [
    "#Memberikan gambaran terkait visualisasi algortma cart.\n",
    "#sehingga mendapatkan nilai prediksinya.\n",
    "\n",
    "fig = plt.figure(figsize =(25,15))\n",
    "vz_cart = tree.plot_tree(clf, class_names=['0', '1'], filled = True)"
   ]
  },
  {
   "cell_type": "code",
   "execution_count": null,
   "metadata": {},
   "outputs": [],
   "source": [
    "#Membuat variabel untuk nilai prediksi \n",
    "y_predict = clf.predict(X_test)"
   ]
  },
  {
   "cell_type": "code",
   "execution_count": null,
   "metadata": {},
   "outputs": [],
   "source": [
    "#Membandingkan nilai 10 data pertama \n",
    "df_dataTestKendall = df_kendall['prediksi']\n",
    "df_arrayTestKendall = np.array(df_dataTest[0:9])\n",
    "\n",
    "print(y_predict, '--', df_arrayTestKendall)"
   ]
  },
  {
   "cell_type": "code",
   "execution_count": null,
   "metadata": {},
   "outputs": [],
   "source": [
    "#Menghitung nilai akurasi pada algortima\n",
    "from sklearn import metrics\n",
    "\n",
    "print(\"Accuracy:\",metrics.accuracy_score(y_test, y_predict))"
   ]
  },
  {
   "cell_type": "code",
   "execution_count": null,
   "metadata": {},
   "outputs": [],
   "source": [
    "print(classification_report(y_test, y_predict))"
   ]
  },
  {
   "cell_type": "code",
   "execution_count": null,
   "metadata": {},
   "outputs": [],
   "source": [
    "print(confusion_matrix(y_test, y_predict))"
   ]
  },
  {
   "cell_type": "code",
   "execution_count": null,
   "metadata": {},
   "outputs": [],
   "source": [
    "#membuat variabel prediksi untuk algoritma cart nilai X\n",
    "y_predict_testKendall = clf.predict(X_test)\n",
    "y_predict_testKendall = pd.DataFrame({'prediksi_cart' : y_predict_testKendall})\n",
    "y_predict_testKendall"
   ]
  },
  {
   "cell_type": "code",
   "execution_count": null,
   "metadata": {},
   "outputs": [],
   "source": [
    "y_predict_trainKendall = clf.predict(X_train)\n",
    "y_predict_trainKendall = pd.DataFrame({'prediksi_cart' : y_predict_trainKendall})\n",
    "y_predict_trainKendall.head()"
   ]
  },
  {
   "cell_type": "code",
   "execution_count": null,
   "metadata": {},
   "outputs": [],
   "source": [
    "#Menggabungkan keseluruhan nilai prediksi.\n",
    "df_predict = pd.concat([y_predict_trainKendall, y_predict_testKendall])\n",
    "df_predict.reset_index(inplace=True, drop=True)\n",
    "df_predict.head()"
   ]
  },
  {
   "cell_type": "code",
   "execution_count": null,
   "metadata": {},
   "outputs": [],
   "source": [
    "actual_data = df_kendall['prediksi']\n",
    "actual_data = pd.DataFrame(actual_data)\n",
    "actual_data.head()"
   ]
  },
  {
   "cell_type": "code",
   "execution_count": null,
   "metadata": {},
   "outputs": [],
   "source": [
    "df_data = pd.concat([df_encoded, df_predict], axis=1) \n",
    "df_data2 = df_data[df_data.prediksi == 1]\n",
    "df_data2"
   ]
  },
  {
   "cell_type": "code",
   "execution_count": null,
   "metadata": {},
   "outputs": [],
   "source": [
    "#Melakuakn algortima fuzzy\n",
    "#pilih salah satu metode fuzzy dari mamdami, sugeno, tsukamoto\n",
    "import skfuzzy as fuzz\n",
    "%matplotlib inline\n",
    "\n",
    "def RangeSubjektif (_low, _high, _step) :\n",
    "    subjektif = np.arange(_low, _high, _step)\n",
    "    return subjektif\n",
    "\n",
    "def generateFuzzy (_rule, _range_subjektif, _title):\n",
    "    lo = fuzz.trimf(_range_subjektif, _rule[0])\n",
    "    hi = fuzz.trimf(_range_subjektif, _rule[1])\n",
    "\n",
    "    fig,ax = plt.subplots(nrows = 1, figsize=(7, 5))\n",
    "\n",
    "    ax.plot(_range_subjektif, lo, 'b', linewidth=1.5, label='Tidak')\n",
    "    ax.plot(_range_subjektif, hi, 'g', linewidth=1.5, label='Ya')\n",
    "    ax.set_title(_title)\n",
    "    ax.legend()\n",
    "\n",
    "    ax.spines['top'].set_visible(False)\n",
    "    ax.spines['right'].set_visible(False)\n",
    "    ax.get_xaxis().tick_bottom()\n",
    "    ax.get_yaxis().tick_left()\n",
    "\n",
    "\n",
    "    plt.tight_layout()\n",
    "    plt.show()\n",
    "\n",
    "    return lo, hi \n",
    "\n"
   ]
  },
  {
   "cell_type": "code",
   "execution_count": null,
   "metadata": {},
   "outputs": [],
   "source": [
    "#Asumsikan dengan nilai dari persentase. \n",
    "xGemar = RangeSubjektif(4, 46, 1)\n",
    "rGemar = np.array([\n",
    "    [0, 13, 25],\n",
    "    [25, 35, 46], \n",
    "])\n",
    "lo_gemar, hi_gemar = generateFuzzy(rGemar, xGemar, 'Kuliner yang digemari')\n",
    "\n",
    "xKonsumsi = RangeSubjektif(4, 42, 1)\n",
    "rKonsumsi = np.array([\n",
    "    [0, 12, 23],\n",
    "    [23, 33, 42]\n",
    "])\n",
    "lo_konsumsi, hi_konsumsi = generateFuzzy(rKonsumsi, xKonsumsi, 'Kuliner sering dikonsumsi')\n",
    "\n",
    "xIklan = RangeSubjektif(6, 56, 1)\n",
    "rIklan = np.array([\n",
    "    [0, 14, 28],\n",
    "    [28, 42, 56]\n",
    "])\n",
    "lo_iklan, hi_iklan = generateFuzzy(rIklan, xIklan, 'Iklan Kuliner')\n",
    "\n",
    "xRating = RangeSubjektif(6, 60, 1)\n",
    "rRating = np.array([\n",
    "    [0, 20, 32],\n",
    "    [32, 48, 60]\n",
    "])\n",
    "lo_rating, hi_rating = generateFuzzy(rRating, xRating, 'Rating Iklan')\n",
    "\n",
    "xBeli = RangeSubjektif(20, 52, 1)\n",
    "rBeli = np.array([\n",
    "    [0, 23, 32],\n",
    "    [32, 42, 52]\n",
    "])\n",
    "lo_beli, hi_beli = generateFuzzy(rBeli, xBeli, 'Pembelian Kuliner')\n",
    "\n",
    "xMulti = RangeSubjektif(10, 74, 1)\n",
    "rMulti = np.array([\n",
    "    [0, 33, 45],\n",
    "    [45, 63, 74]\n",
    "])\n",
    "lo_multi, hi_multi = generateFuzzy(rMulti, xMulti, 'Peningkatan Penjualan Multiplatform')\n",
    "\n",
    "xRugi = RangeSubjektif(12, 42, 1)\n",
    "rRugi = np.array([\n",
    "    [0, 12, 23],\n",
    "    [23, 33, 42]\n",
    "])\n",
    "lo_rugi, hi_rugi = generateFuzzy(rRugi, xRugi, 'Faktor Yang Merugikan')\n",
    "\n",
    "xUntung = RangeSubjektif(12, 42, 1)\n",
    "rUntung = np.array([\n",
    "    [0, 12, 23],\n",
    "    [23, 33, 42]\n",
    "])\n",
    "lo_untung, hi_untung = generateFuzzy(rUntung, xUntung, 'Faktor Yang Menguntungkan')"
   ]
  },
  {
   "cell_type": "code",
   "execution_count": null,
   "metadata": {},
   "outputs": [],
   "source": [
    "'''\n",
    "in_1 =[]\n",
    "in_1.append(fuzz.interp_membership(xGemar, lo_gemar, hi_gemar))\n",
    "in_1.append(fuzz.interp_membership(xGemar, lo_gemar, hi_gemar))\n",
    "in_1.append(fuzz.interp_membership(xGemar, lo_gemar, hi_gemar))\n",
    "\n",
    "print(\"Derajat Keanggotaan kuliner yang digemari\")\n",
    "if in_1[0]>0:\n",
    "    print(\"Rendah : \"+ str(in_1[0]))\n",
    "if in_1[1]>0:\n",
    "    print(\"Sedang : \"+ str(in_1[1]))\n",
    "'''"
   ]
  }
 ],
 "metadata": {
  "interpreter": {
   "hash": "2db524e06e9f5f4ffedc911c917cb75e12dbc923643829bf417064a77eb14d37"
  },
  "kernelspec": {
   "display_name": "Python 3.8.5 64-bit",
   "language": "python",
   "name": "python3"
  },
  "language_info": {
   "codemirror_mode": {
    "name": "ipython",
    "version": 3
   },
   "file_extension": ".py",
   "mimetype": "text/x-python",
   "name": "python",
   "nbconvert_exporter": "python",
   "pygments_lexer": "ipython3",
   "version": "3.8.5"
  },
  "orig_nbformat": 4
 },
 "nbformat": 4,
 "nbformat_minor": 2
}
